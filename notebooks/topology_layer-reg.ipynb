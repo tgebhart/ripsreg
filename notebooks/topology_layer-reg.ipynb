{
 "cells": [
  {
   "cell_type": "code",
   "execution_count": 1,
   "metadata": {},
   "outputs": [
    {
     "data": {
      "text/plain": [
       "<torch._C.Generator at 0x7f3e15a4c470>"
      ]
     },
     "execution_count": 1,
     "metadata": {},
     "output_type": "execute_result"
    }
   ],
   "source": [
    "import numpy as np\n",
    "import matplotlib.pyplot as plt\n",
    "import torch\n",
    "import gudhi as gd\n",
    "from torch.autograd import Variable\n",
    "import networkx as nx\n",
    "import scipy.sparse\n",
    "from nn_homology import nn_graph\n",
    "import dionysus as d\n",
    "\n",
    "torch.manual_seed(2)"
   ]
  },
  {
   "cell_type": "code",
   "execution_count": 2,
   "metadata": {},
   "outputs": [],
   "source": [
    "G = nx.DiGraph()\n",
    "G.add_edge(0,1,weight=2)\n",
    "G.add_edge(1,2,weight=1)\n",
    "G.add_edge(2,3,weight=4)\n",
    "G.add_edge(3,4,weight=5)\n",
    "G.add_edge(4,1,weight=5)"
   ]
  },
  {
   "cell_type": "code",
   "execution_count": 3,
   "metadata": {},
   "outputs": [
    {
     "data": {
      "image/png": "[encoded data removed]",
      "text/plain": [
       "<Figure size 432x288 with 1 Axes>"
      ]
     },
     "metadata": {},
     "output_type": "display_data"
    }
   ],
   "source": [
    "nx.draw_spring(G)"
   ]
  },
  {
   "cell_type": "code",
   "execution_count": 4,
   "metadata": {},
   "outputs": [],
   "source": [
    "from collections import defaultdict\n",
    "\n",
    "# Returns enhanced diagram from a filtration\n",
    "# dgm - a dictionary indexed by dimension\n",
    "# Note:\n",
    "#    if death time is infinite - then the second pairing is meaningless\n",
    "#     each dictionarry is a list of 4-tuples\n",
    "#        (birth time, death time, birth vertex, death vertex)\n",
    "# Input: m is the output of homology_persistence(f),\n",
    "#        f is a filtration\n",
    "#        Tbl is a dictionary from simplex to vertex (depends on the function)\n",
    "def returndgm(m,f,Tbl):\n",
    "    dgm = {}\n",
    "    for i in range(len(m)-1):\n",
    "        dgm[i] = []\n",
    "    # Tbl is a dictionary from simplex to vertex (depends on the function) / from simplex to two points (three points cause includes value)\n",
    "    # b_value_i, d_value_i, b_e_b (or -1), b_e_d (or -1), d_e_b (or -1), d_e_d (or -1)\n",
    "    #point_index_to_points_indices = defaultdict(lambda: [])\n",
    "    for i in range(len(m)-1):\n",
    "        if m.pair(i) < i: continue      # skip negative simplices\n",
    "        dim = int(f[i].dimension())\n",
    "        pair = m.pair(i) # now an edge\n",
    "        if pair != m.unpaired and f[pair].data-f[i].data > 0:\n",
    "            b_a, d_a = Tbl[i], Tbl[pair] # FROM TABLE!\n",
    "            dgm[dim].append( [f[i].data, f[pair].data, b_a[0], b_a[1], d_a[0], d_a[1]] )\n",
    "        elif m.pair(i) == m.unpaired:\n",
    "            b_a = Tbl[i]\n",
    "            dgm[dim].append([f[i].data, np.inf, b_a[0], b_a[1], -1, -1])\n",
    "    return dgm #, point_index_to_points_indices\n",
    "\n",
    "# currently the fastest update procedure\n",
    "# takes in a filtration F and a vector fnew of new\n",
    "# function values defined on the vertices\n",
    "# TODO: check if we update Tbl is it faster\n",
    "#       than creating it from scratch each time\n",
    "''' OBS: Don't think it's working for homology classes of dimension 2 '''\n",
    "def computePersistence(F):\n",
    "    # update filtration\n",
    "    # TODO: F and fnew doesn't have to have the same number of decimals!!!!!\n",
    "    Tbl = {} # From simplex to attaching edge [a,b,value]\n",
    "    #round_decimals = 10\n",
    "    # SETTING IT TO s.data changes the float, must be somthing with the filtration structure\n",
    "    F.sort() # so we know we are visting lover dimension before higher dimensions\n",
    "    for s in F:\n",
    "        index_s = F.index(s)\n",
    "        if s.dimension() == 0:\n",
    "            Tbl[index_s] = [-1, -1, 0]\n",
    "        elif s.dimension() == 1:\n",
    "            max_edge = [s[0], s[1], s.data]\n",
    "            Tbl[index_s] = max_edge\n",
    "        elif s.dimension() == 2: # s is now a triangle\n",
    "            edges = [F.index(b) for b in s.boundary()]\n",
    "            edges_data = [F[e].data for e in edges]\n",
    "            edge_index = np.argmax(np.array([edges_data]))\n",
    "            attaching = [F[edges[edge_index]][0], F[edges[edge_index]][1], edges_data[edge_index]]\n",
    "            Tbl[index_s] = attaching\n",
    "        elif s.dimension() == 3: # s is now a tetrahedron\n",
    "            edges_triples = [Tbl[F.index(b)] for b in s.boundary()]\n",
    "            edges_data = [e[2] for e in edges_triples]\n",
    "            edge_index = np.argmax(np.array([edges_data]))\n",
    "            attaching = edges_triples[edge_index]\n",
    "            Tbl[index_s] = attaching\n",
    "        else:\n",
    "            print(\"WARNING-topologicalutils: something is wrong. Too high dimensional\")\n",
    "            assert(False)\n",
    "\n",
    "    m = d.homology_persistence(F) # compute persistence\n",
    "    dgms = returndgm(m,F,Tbl) # compute diagrams\n",
    "    return dgms, Tbl  # return"
   ]
  },
  {
   "cell_type": "code",
   "execution_count": 5,
   "metadata": {},
   "outputs": [],
   "source": [
    "def to_dionysus_filtration(G, maxdim=2):\n",
    "    adj = nx.to_adjacency_matrix(G).todense()\n",
    "    return d.fill_rips(adj, maxdim, 10)\n",
    "\n",
    "def graph_filtration_rips(model, param_info, input_size, maxdim=2):\n",
    "    weights = nn_graph.get_weights(model)\n",
    "    params = nn_graph.append_params(param_info, weights)\n",
    "    \n",
    "    G = nn_graph.to_directed_networkx(params, input_size)\n",
    "    return to_dionysus_filtration(G, maxdim=maxdim)"
   ]
  },
  {
   "cell_type": "code",
   "execution_count": 6,
   "metadata": {},
   "outputs": [],
   "source": [
    "dtype=torch.float32\n",
    "class Diagramlayer(torch.autograd.Function):\n",
    "\n",
    "    # Note that both forward and backward are @staticmethods\n",
    "    @staticmethod\n",
    "    # bias is an optional argument\n",
    "    def forward(ctx, model, param_info, input_size, maxdim=1, verbose=False):\n",
    "        SKELETON_DIMENSION = maxdim + 1 # maximal simplex dimension\n",
    "        if verbose: print(\"*** dgm start\")\n",
    "\n",
    "        start_time = time.time()\n",
    "        F = graph_filtration_rips(model, param_info, input_size, maxdim=SKELETON_DIMENSION)\n",
    "\n",
    "        dgms, Tbl = computePersistence(F)\n",
    "        max_pts = np.max([len(dgms[i]) for i in range(maxdim+1)])\n",
    "        num_dgm_pts = max_pts\n",
    "        ''' -1 is used later '''\n",
    "        dgms_inds = -1 * np.ones([maxdim+1, num_dgm_pts, 4])\n",
    "        dgms_values = -np.inf * np.ones([maxdim+1, num_dgm_pts, 2]) # -1.0 * np.ones([3, num_dgm_pts, 2])\n",
    "        for dim in range(maxdim+1):\n",
    "            if len(dgms[dim]) > 0:\n",
    "                dgm = np.array(dgms[dim])\n",
    "                l = np.min([num_dgm_pts, len(dgm)])\n",
    "                arg_sort = np.argsort(np.abs(dgm[:,1] - dgm[:,0]))[::-1]\n",
    "                dgms_inds[dim][:l] = dgm[arg_sort[:l], 2:6]\n",
    "                dgms_values[dim][:l] = dgm[arg_sort[:l], 0:2]\n",
    "\n",
    "        dgms_inds = dgms_inds.reshape([maxdim+1, num_dgm_pts, 2, 2])\n",
    "        #print dgms_values\n",
    "        #dgms_values[dgms_values == np.inf] = SATURATION_VALUE #-1.0, Won't show up as inifinite, but good enough\n",
    "        output = torch.tensor(dgms_values).type(dtype)\n",
    "        ctx.save_for_backward(x, torch.tensor(dgms_inds).type(dtype), output, torch.tensor(verbose))\n",
    "        if verbose: print(\"*** dgm done\", time.time() - start_time)\n",
    "        return output\n",
    "\n",
    "    # This function has only a single output, so it gets only one gradient\n",
    "    @staticmethod\n",
    "    def backward(ctx, grad_output):\n",
    "\n",
    "        input, dgms_inds, dgms_values, verbose = ctx.saved_variables\n",
    "        if verbose: print(\"*** dgm back\")\n",
    "        start_time = time.time()\n",
    "\n",
    "        points = input.data.numpy()\n",
    "        output = dgms_values.detach().numpy()\n",
    "        grad_input = torch.zeros(input.shape).type(dtype)\n",
    "\n",
    "        # MASK to only care about relevant spots later one\n",
    "        output[output == np.inf] = -np.inf # death_value infinite doesn't correspond to a simplex\n",
    "        output[output > -np.inf] = 1 # actual values that map to simplices\n",
    "        output[output == -np.inf] = 0 # float('NaN') # 0 # dont affect the gradient, since they dont exist, didn't have matches, just because we want to keep matrix structure\n",
    "\n",
    "        np_dgms_inds = dgms_inds.data.numpy().astype(np.int)\n",
    "        list_of_unique_indices = np.unique(np_dgms_inds.flatten())\n",
    "        grad_intermediate = output * grad_output.detach().numpy()\n",
    "        ''' will have incorrect mappings, but these will never be used? '''\n",
    "        pts_of_inds = points[np_dgms_inds]\n",
    "\n",
    "        for i in range(len(list_of_unique_indices)):\n",
    "            index = int(list_of_unique_indices[i]) # index into input, get all that responds to a point-index\n",
    "            ''' Not mapped anyhwere, set above '''\n",
    "            if index > -1:\n",
    "                index_into_dgms_inds = np.argwhere(np_dgms_inds == index)\n",
    "                index_into_dgms_inds = index_into_dgms_inds.transpose()\n",
    "                index_into_dgms_inds_partners = np.copy(index_into_dgms_inds)\n",
    "                index_into_dgms_inds_partners[-1, :] = np.remainder(index_into_dgms_inds[-1, :] + 1, 2)\n",
    "                intermediate = pts_of_inds[list(index_into_dgms_inds)] - pts_of_inds[list(index_into_dgms_inds_partners)] #- dgms_inds_to_points[np.remainder(np.array(index_into_dgms_inds)+1, 2)]\n",
    "                ''' No 1.0/2 factor for dionysus '''\n",
    "                #print(\"intermediate\", intermediate)\n",
    "                ''' Dividing by np.linalg.norm for zero norm has unintended consequences '''\n",
    "                norms = np.linalg.norm(intermediate, axis=1)\n",
    "                norms[norms == 0] = 1.0\n",
    "                intermediate = ( intermediate.transpose() / norms).transpose()\n",
    "                inds_into_grad_output = index_into_dgms_inds[:-1, :]\n",
    "                grad_output_and_intermediate = (intermediate.transpose() * grad_intermediate[ list(inds_into_grad_output) ]).transpose()\n",
    "                update = np.sum( grad_output_and_intermediate.reshape([-1, input.shape[1]]), axis=0 )\n",
    "                grad_input[int(index)] = torch.tensor(update).type(dtype)\n",
    "        if verbose: print(\"*** dgm back done\", time.time() - start_time)\n",
    "        return grad_input, None, None, None"
   ]
  },
  {
   "cell_type": "code",
   "execution_count": null,
   "metadata": {},
   "outputs": [],
   "source": []
  },
  {
   "cell_type": "code",
   "execution_count": null,
   "metadata": {},
   "outputs": [],
   "source": []
  }
 ],
 "metadata": {
  "kernelspec": {
   "display_name": "Python 3",
   "language": "python",
   "name": "python3"
  },
  "language_info": {
   "codemirror_mode": {
    "name": "ipython",
    "version": 3
   },
   "file_extension": ".py",
   "mimetype": "text/x-python",
   "name": "python",
   "nbconvert_exporter": "python",
   "pygments_lexer": "ipython3",
   "version": "3.8.2"
  }
 },
 "nbformat": 4,
 "nbformat_minor": 4
}
