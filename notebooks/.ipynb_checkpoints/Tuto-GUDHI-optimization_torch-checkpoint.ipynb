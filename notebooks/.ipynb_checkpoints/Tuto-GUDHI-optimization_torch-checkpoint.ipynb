{
 "cells": [
  {
   "cell_type": "code",
   "execution_count": 16,
   "metadata": {},
   "outputs": [],
   "source": [
    "import numpy as np\n",
    "import matplotlib.pyplot as plt\n",
    "import torch\n",
    "import gudhi as gd\n",
    "from torch.autograd import Variable"
   ]
  },
  {
   "cell_type": "code",
   "execution_count": 17,
   "metadata": {},
   "outputs": [
    {
     "data": {
      "image/png": "[encoded data removed]",
      "text/plain": [
       "<Figure size 432x288 with 1 Axes>"
      ]
     },
     "metadata": {
      "needs_background": "light"
     },
     "output_type": "display_data"
    }
   ],
   "source": [
    "X = np.random.uniform(size=[300,2])\n",
    "plt.scatter(X[:,0], X[:,1], s=3)\n",
    "plt.show()"
   ]
  },
  {
   "cell_type": "code",
   "execution_count": 2,
   "metadata": {},
   "outputs": [],
   "source": [
    "st = gd.RipsComplex(points=X, max_edge_length=1.).create_simplex_tree(max_dimension=2)\n",
    "dgm = st.persistence()"
   ]
  },
  {
   "cell_type": "code",
   "execution_count": 3,
   "metadata": {},
   "outputs": [
    {
     "data": {
      "image/png": "[encoded data removed]",
      "text/plain": [
       "<Figure size 432x288 with 1 Axes>"
      ]
     },
     "metadata": {
      "needs_background": "light"
     },
     "output_type": "display_data"
    }
   ],
   "source": [
    "plot = gd.plot_persistence_diagram(dgm)"
   ]
  },
  {
   "cell_type": "code",
   "execution_count": 4,
   "metadata": {},
   "outputs": [],
   "source": [
    "def compute_persistence(st, card, hom_dim):\n",
    "    st.persistence()\n",
    "    pairs = st.persistence_pairs()\n",
    "    dgm = np.zeros([card[0], 2], dtype=np.float32)\n",
    "    spl = np.zeros([card[0], 2*hom_dim[0] + 3], dtype=np.int32)\n",
    "    mask = np.zeros([card[0]], dtype=np.int32)\n",
    "    count = 0\n",
    "    for [splx0, splx1] in pairs:\n",
    "        if len(splx0) - 1 == hom_dim[0] and count < card[0] and len(splx1) > 0:\n",
    "            dgm[count,0], dgm[count,1] = st.filtration(splx0), st.filtration(splx1)\n",
    "            spl[count,:hom_dim[0]+1], spl[count,hom_dim[0]+1:] = np.array(splx0), np.array(splx1)\n",
    "            mask[count] = 1\n",
    "            count += 1\n",
    "    return [dgm, spl, mask]\n",
    "\n",
    "def compute_rips(card, hom_dim, x, Dx, max_length):\n",
    "    rc = gd.RipsComplex(points=x, max_edge_length=max_length[0])\n",
    "    st = rc.create_simplex_tree(max_dimension=hom_dim[0]+1)\n",
    "    return compute_persistence(st, card, hom_dim)\n",
    "\n",
    "def compute_rips_grad(grad_dgm, dgm, spl, mask, c, h, x, Dx):\n",
    "    grad_x = np.zeros(x.shape, dtype=np.float32)\n",
    "    for i in range(c[0]):\n",
    "        if mask[i] == 1:\n",
    "            val0, val1 = dgm[i,0], dgm[i,1]\n",
    "            splx0, splx1 = spl[i,:h[0]+1], spl[i,h[0]+1:]\n",
    "            D0, D1 = Dx[splx0,:][:, splx0], Dx[splx1,:][:, splx1]\n",
    "            [v0a, v0b] = list(splx0[np.argwhere(np.abs(D0-val0) <= 1e-4)[0,:]])\n",
    "            [v1a, v1b] = list(splx1[np.argwhere(np.abs(D1-val1) <= 1e-4)[0,:]])\n",
    "            if h[0] > 0:\n",
    "                grad_x[v0a,:] += grad_dgm[i,0] * (x[v0a,:] - x[v0b,:]) / val0\n",
    "                grad_x[v0b,:] += grad_dgm[i,0] * (x[v0b,:] - x[v0a,:]) / val0\n",
    "            grad_x[v1a,:] += grad_dgm[i,1] * (x[v1a,:] - x[v1b,:]) / val1\n",
    "            grad_x[v1b,:] += grad_dgm[i,1] * (x[v1b,:] - x[v1a,:]) / val1\n",
    "    return grad_x"
   ]
  },
  {
   "cell_type": "code",
   "execution_count": null,
   "metadata": {},
   "outputs": [],
   "source": [
    "class Rips(torch.autograd.Function):\n",
    "\n",
    "    @staticmethod\n",
    "    def forward(ctx, card, hom_dim, x, Dx, max_length):\n",
    "        \"\"\"\n",
    "        In the forward pass we receive a Tensor containing the input and return\n",
    "        a Tensor containing the output. ctx is a context object that can be used\n",
    "        to stash information for backward computation. You can cache arbitrary\n",
    "        objects for use in the backward pass using the ctx.save_for_backward method.\n",
    "        \"\"\"\n",
    "        dgm, spl, mask = compute_rips(card, hom_dim, x, Dx, max_length)\n",
    "        ctx.save_for_backward(dgm, card, hom_dim x, Dx)\n",
    "        return [dgm, spl, mask]\n",
    "\n",
    "    @staticmethod\n",
    "    def backward(ctx, dgm_grad, spl_grad, mask_grad):\n",
    "        \"\"\"\n",
    "        In the backward pass we receive a Tensor containing the gradient of the loss\n",
    "        with respect to the output, and we need to compute the gradient of the loss\n",
    "        with respect to the input.\n",
    "        \"\"\"\n",
    "        dgm, c, h, x, Dx = ctx.saved_tensors\n",
    "        grad_x = compute_rips_grad(dgm_grad, dgm, spl, mask, c, h, x, Dx)\n",
    "        return [None, None, grad_x, None, None]\n"
   ]
  },
  {
   "cell_type": "code",
   "execution_count": 5,
   "metadata": {},
   "outputs": [],
   "source": [
    "n_pts = 300   # number of points in the point clouds\n",
    "card  = 50    # max number of points in the diagrams\n",
    "hom   = 1     # homological dimension\n",
    "ml    = 12.   # max distance in Rips\n",
    "lr    = 1e-1  # learning rate"
   ]
  },
  {
   "cell_type": "code",
   "execution_count": 20,
   "metadata": {},
   "outputs": [],
   "source": [
    "x = Variable(torch.FloatTensor(n_pts, 2).uniform_(), requires_grad=True)\n",
    "optimizer = torch.optim.SGD([x], lr=lr)"
   ]
  },
  {
   "cell_type": "code",
   "execution_count": 21,
   "metadata": {},
   "outputs": [],
   "source": [
    "x1 = x.reshape((n_pts,1,2))\n",
    "x2 = x.reshape((1,n_pts,2))"
   ]
  },
  {
   "cell_type": "code",
   "execution_count": 26,
   "metadata": {},
   "outputs": [],
   "source": [
    "D = torch.sqrt(torch.sum((x1-x2)**2, axis=2))"
   ]
  },
  {
   "cell_type": "code",
   "execution_count": null,
   "metadata": {},
   "outputs": [],
   "source": [
    "dgm, spl, mask = Rips(tf.constant(np.array([card],dtype=np.int32)),\\\n",
    "                      tf.constant(np.array([hom],dtype=np.int32)), x,D,\\\n",
    "                      tf.constant(np.array([ml],dtype=np.float32)))"
   ]
  },
  {
   "cell_type": "code",
   "execution_count": null,
   "metadata": {},
   "outputs": [],
   "source": []
  }
 ],
 "metadata": {
  "kernelspec": {
   "display_name": "Python 3",
   "language": "python",
   "name": "python3"
  },
  "language_info": {
   "codemirror_mode": {
    "name": "ipython",
    "version": 3
   },
   "file_extension": ".py",
   "mimetype": "text/x-python",
   "name": "python",
   "nbconvert_exporter": "python",
   "pygments_lexer": "ipython3",
   "version": "3.8.2"
  }
 },
 "nbformat": 4,
 "nbformat_minor": 4
}
